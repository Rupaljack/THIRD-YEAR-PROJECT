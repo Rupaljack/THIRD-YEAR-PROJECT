{
  "nbformat": 4,
  "nbformat_minor": 0,
  "metadata": {
    "colab": {
      "name": "Lab 6B - Cryptograpphy and PKI.ipynb",
      "provenance": [],
      "collapsed_sections": [],
      "toc_visible": true,
      "authorship_tag": "ABX9TyO/ha5NkaIxy/85iRAiL+Bs",
      "include_colab_link": true
    },
    "kernelspec": {
      "name": "python3",
      "display_name": "Python 3"
    }
  },
  "cells": [
    {
      "cell_type": "markdown",
      "metadata": {
        "id": "view-in-github",
        "colab_type": "text"
      },
      "source": [
        "<a href=\"https://colab.research.google.com/github/Rupaljack/THIRD-YEAR-PROJECT/blob/master/Lab_6B_Cryptograpphy_and_PKI.ipynb\" target=\"_parent\"><img src=\"https://colab.research.google.com/assets/colab-badge.svg\" alt=\"Open In Colab\"/></a>"
      ]
    },
    {
      "cell_type": "markdown",
      "metadata": {
        "id": "M165K564EjE_",
        "colab_type": "text"
      },
      "source": [
        "# RUPAL HANDOO\n",
        "#BATCH - E "
      ]
    },
    {
      "cell_type": "markdown",
      "metadata": {
        "id": "euIXg_Lfk3_f",
        "colab_type": "text"
      },
      "source": [
        "## Lab 6B - Cryptograpphy and PKI\n"
      ]
    },
    {
      "cell_type": "markdown",
      "metadata": {
        "id": "8-g8oMLQhcJL",
        "colab_type": "text"
      },
      "source": [
        "## STEP-1 Install pycrypto"
      ]
    },
    {
      "cell_type": "code",
      "metadata": {
        "id": "aPIrJNedlRTh",
        "colab_type": "code",
        "colab": {
          "base_uri": "https://localhost:8080/",
          "height": 187
        },
        "outputId": "60263ca9-89f9-4031-fbdd-a946c9e1fb56"
      },
      "source": [
        "!pip install pycrypto"
      ],
      "execution_count": null,
      "outputs": [
        {
          "output_type": "stream",
          "text": [
            "Collecting pycrypto\n",
            "\u001b[?25l  Downloading https://files.pythonhosted.org/packages/60/db/645aa9af249f059cc3a368b118de33889219e0362141e75d4eaf6f80f163/pycrypto-2.6.1.tar.gz (446kB)\n",
            "\u001b[K     |████████████████████████████████| 450kB 2.8MB/s \n",
            "\u001b[?25hBuilding wheels for collected packages: pycrypto\n",
            "  Building wheel for pycrypto (setup.py) ... \u001b[?25l\u001b[?25hdone\n",
            "  Created wheel for pycrypto: filename=pycrypto-2.6.1-cp36-cp36m-linux_x86_64.whl size=499939 sha256=e69c0a03dd0e95a7625e97b959d285a2d24adc146b9d9603eb7965be7d53a3f4\n",
            "  Stored in directory: /root/.cache/pip/wheels/27/02/5e/77a69d0c16bb63c6ed32f5386f33a2809c94bd5414a2f6c196\n",
            "Successfully built pycrypto\n",
            "Installing collected packages: pycrypto\n",
            "Successfully installed pycrypto-2.6.1\n"
          ],
          "name": "stdout"
        }
      ]
    },
    {
      "cell_type": "markdown",
      "metadata": {
        "id": "2n6KUap7m-Nk",
        "colab_type": "text"
      },
      "source": [
        "## STEP-2 Install Cryptography\n"
      ]
    },
    {
      "cell_type": "code",
      "metadata": {
        "id": "UPjY6LJNln7X",
        "colab_type": "code",
        "colab": {
          "base_uri": "https://localhost:8080/",
          "height": 153
        },
        "outputId": "dcc1ff98-8655-41fb-aac6-a5e0b556af66"
      },
      "source": [
        "!pip install cryptography"
      ],
      "execution_count": null,
      "outputs": [
        {
          "output_type": "stream",
          "text": [
            "Collecting cryptography\n",
            "\u001b[?25l  Downloading https://files.pythonhosted.org/packages/3c/04/686efee2dcdd25aecf357992e7d9362f443eb182ecd623f882bc9f7a6bba/cryptography-2.9.2-cp35-abi3-manylinux2010_x86_64.whl (2.7MB)\n",
            "\u001b[K     |████████████████████████████████| 2.7MB 2.7MB/s \n",
            "\u001b[?25hRequirement already satisfied: six>=1.4.1 in /usr/local/lib/python3.6/dist-packages (from cryptography) (1.12.0)\n",
            "Requirement already satisfied: cffi!=1.11.3,>=1.8 in /usr/local/lib/python3.6/dist-packages (from cryptography) (1.14.0)\n",
            "Requirement already satisfied: pycparser in /usr/local/lib/python3.6/dist-packages (from cffi!=1.11.3,>=1.8->cryptography) (2.20)\n",
            "Installing collected packages: cryptography\n",
            "Successfully installed cryptography-2.9.2\n"
          ],
          "name": "stdout"
        }
      ]
    },
    {
      "cell_type": "markdown",
      "metadata": {
        "id": "G9YBq7udpqXP",
        "colab_type": "text"
      },
      "source": [
        "# STEP - 3 Encryption algorithm\n",
        "### Part-1 Symmetric Cryptography\n",
        "### A. Using Data Encryption Standard (DES)\n",
        "### 1.In ECB mode\n"
      ]
    },
    {
      "cell_type": "markdown",
      "metadata": {
        "id": "hFH2n2mWJmgC",
        "colab_type": "text"
      },
      "source": [
        "*ENCRYPTION*\n",
        "\n",
        "\n",
        "\n"
      ]
    },
    {
      "cell_type": "code",
      "metadata": {
        "id": "2MzvY8UMnZDb",
        "colab_type": "code",
        "colab": {
          "base_uri": "https://localhost:8080/",
          "height": 34
        },
        "outputId": "da9aad80-ea22-4a38-bae5-d2efbb1c9469"
      },
      "source": [
        "from Crypto.Cipher import DES\n",
        "des = DES.new('01234567', DES.MODE_ECB)\n",
        "text = 'iAMalien'\n",
        "cipher_text = des.encrypt(text)\n",
        "cipher_text"
      ],
      "execution_count": null,
      "outputs": [
        {
          "output_type": "execute_result",
          "data": {
            "text/plain": [
              "b'\\x05q\\x9f\\xc3n\\x97]\\x1f'"
            ]
          },
          "metadata": {
            "tags": []
          },
          "execution_count": 26
        }
      ]
    },
    {
      "cell_type": "markdown",
      "metadata": {
        "id": "r7wKrFYgqHo-",
        "colab_type": "text"
      },
      "source": [
        "*DECRYPTION*"
      ]
    },
    {
      "cell_type": "code",
      "metadata": {
        "id": "diz1AS_Kpk0g",
        "colab_type": "code",
        "colab": {
          "base_uri": "https://localhost:8080/",
          "height": 34
        },
        "outputId": "38c8b56c-43ca-452e-dc5d-244e80efcf2e"
      },
      "source": [
        "des.decrypt(cipher_text)\n"
      ],
      "execution_count": null,
      "outputs": [
        {
          "output_type": "execute_result",
          "data": {
            "text/plain": [
              "b'iAMalien'"
            ]
          },
          "metadata": {
            "tags": []
          },
          "execution_count": 27
        }
      ]
    },
    {
      "cell_type": "markdown",
      "metadata": {
        "id": "A_CKdIUTqacI",
        "colab_type": "text"
      },
      "source": [
        "\n",
        "### 2.In CFB Mode "
      ]
    },
    {
      "cell_type": "markdown",
      "metadata": {
        "id": "gkFiJA-FQwSb",
        "colab_type": "text"
      },
      "source": [
        "*ENCRYPTION*"
      ]
    },
    {
      "cell_type": "code",
      "metadata": {
        "id": "q2DGkwTAqGV1",
        "colab_type": "code",
        "colab": {
          "base_uri": "https://localhost:8080/",
          "height": 34
        },
        "outputId": "fc6cc074-e555-46b8-bb28-cf84a4992ae9"
      },
      "source": [
        "from Crypto.Cipher import DES\n",
        "from Crypto import Random\n",
        "iv = Random.get_random_bytes(8)\n",
        "des1 = DES.new('01234567', DES.MODE_CFB, iv)\n",
        "des2 = DES.new('01234567', DES.MODE_CFB, iv)\n",
        "text = 'IamAstudenthello!' \n",
        "cipher_text = des1.encrypt(text)\n",
        "cipher_text"
      ],
      "execution_count": null,
      "outputs": [
        {
          "output_type": "execute_result",
          "data": {
            "text/plain": [
              "b'\\xb8<x`\\xaf\\xe5E\\xf4V>\\x8cx\\xbe\\xe3/&B'"
            ]
          },
          "metadata": {
            "tags": []
          },
          "execution_count": 24
        }
      ]
    },
    {
      "cell_type": "markdown",
      "metadata": {
        "id": "Jj7hL2l4Q6rC",
        "colab_type": "text"
      },
      "source": [
        "*DECRYPTION*"
      ]
    },
    {
      "cell_type": "code",
      "metadata": {
        "id": "9m2KCr7Vza_u",
        "colab_type": "code",
        "colab": {
          "base_uri": "https://localhost:8080/",
          "height": 34
        },
        "outputId": "0a7f33bb-dedf-48d4-fefa-a05871bf12f5"
      },
      "source": [
        "des2.decrypt(cipher_text)\n"
      ],
      "execution_count": null,
      "outputs": [
        {
          "output_type": "execute_result",
          "data": {
            "text/plain": [
              "b'IamAstudenthello!'"
            ]
          },
          "metadata": {
            "tags": []
          },
          "execution_count": 25
        }
      ]
    },
    {
      "cell_type": "markdown",
      "metadata": {
        "id": "fiv8pmElb5Eu",
        "colab_type": "text"
      },
      "source": [
        ""
      ]
    },
    {
      "cell_type": "markdown",
      "metadata": {
        "id": "E6_K2HDcbejp",
        "colab_type": "text"
      },
      "source": [
        "### B. Using Stream Ciphers"
      ]
    },
    {
      "cell_type": "markdown",
      "metadata": {
        "id": "6LW5VJ-Mckir",
        "colab_type": "text"
      },
      "source": [
        "*ENCRYPTION*"
      ]
    },
    {
      "cell_type": "code",
      "metadata": {
        "id": "bs8gG22wbpFO",
        "colab_type": "code",
        "colab": {
          "base_uri": "https://localhost:8080/",
          "height": 34
        },
        "outputId": "f5dd3de5-74c7-4613-9582-382992097c4c"
      },
      "source": [
        "\n",
        "from Crypto.Cipher import ARC4\n",
        "obj1 = ARC4.new('01234567')\n",
        "obj2 = ARC4.new('01234567')\n",
        "text = 'GOCYBERSECURITY!' \n",
        "cipher_text = obj1.encrypt(text)\n",
        "cipher_text\n"
      ],
      "execution_count": null,
      "outputs": [
        {
          "output_type": "execute_result",
          "data": {
            "text/plain": [
              "b'\\xd6\\x9a\\xb0F\\x04bwcu\\x10\\xee\\x08\\xbb\\xfa\\xbaq'"
            ]
          },
          "metadata": {
            "tags": []
          },
          "execution_count": 30
        }
      ]
    },
    {
      "cell_type": "markdown",
      "metadata": {
        "id": "RrJwmZWOcXUf",
        "colab_type": "text"
      },
      "source": [
        "*DECRYPTION*"
      ]
    },
    {
      "cell_type": "code",
      "metadata": {
        "id": "rb0rsuY-cfP9",
        "colab_type": "code",
        "colab": {
          "base_uri": "https://localhost:8080/",
          "height": 34
        },
        "outputId": "b5d9f289-e2ac-427b-bd69-4534b6ed1709"
      },
      "source": [
        "obj2.decrypt(cipher_text)"
      ],
      "execution_count": null,
      "outputs": [
        {
          "output_type": "execute_result",
          "data": {
            "text/plain": [
              "b'GOCYBERSECURITY!'"
            ]
          },
          "metadata": {
            "tags": []
          },
          "execution_count": 32
        }
      ]
    },
    {
      "cell_type": "markdown",
      "metadata": {
        "id": "BqL59q68gWUm",
        "colab_type": "text"
      },
      "source": [
        "# STEP-4 PUBLIC-KEY AlGORITHM"
      ]
    },
    {
      "cell_type": "code",
      "metadata": {
        "id": "s_EQhy61e_-B",
        "colab_type": "code",
        "colab": {
          "base_uri": "https://localhost:8080/",
          "height": 34
        },
        "outputId": "4d79fb9b-d125-4af2-9b58-49d48677ae01"
      },
      "source": [
        "from Crypto.PublicKey import RSA\n",
        "from Crypto import Random\n",
        "random_generator = Random.new().read\n",
        "key = RSA.generate(1024, random_generator)\n",
        "key"
      ],
      "execution_count": null,
      "outputs": [
        {
          "output_type": "execute_result",
          "data": {
            "text/plain": [
              "<_RSAobj @0x7fa5acde3fd0 n(1024),e,d,p,q,u,private>"
            ]
          },
          "metadata": {
            "tags": []
          },
          "execution_count": 35
        }
      ]
    },
    {
      "cell_type": "code",
      "metadata": {
        "id": "ewO4pm_PjHsF",
        "colab_type": "code",
        "colab": {
          "base_uri": "https://localhost:8080/",
          "height": 34
        },
        "outputId": "1bd3805e-636b-4710-87c7-2a98aeea2f6d"
      },
      "source": [
        "key.can_encrypt()"
      ],
      "execution_count": null,
      "outputs": [
        {
          "output_type": "execute_result",
          "data": {
            "text/plain": [
              "True"
            ]
          },
          "metadata": {
            "tags": []
          },
          "execution_count": 36
        }
      ]
    },
    {
      "cell_type": "code",
      "metadata": {
        "id": "ZRGagH-yjWFr",
        "colab_type": "code",
        "colab": {
          "base_uri": "https://localhost:8080/",
          "height": 34
        },
        "outputId": "679cb293-504e-4063-86b4-2db4061c1fe3"
      },
      "source": [
        "key.can_sign()"
      ],
      "execution_count": null,
      "outputs": [
        {
          "output_type": "execute_result",
          "data": {
            "text/plain": [
              "True"
            ]
          },
          "metadata": {
            "tags": []
          },
          "execution_count": 47
        }
      ]
    },
    {
      "cell_type": "code",
      "metadata": {
        "id": "RZ6rkcIajk8w",
        "colab_type": "code",
        "colab": {
          "base_uri": "https://localhost:8080/",
          "height": 34
        },
        "outputId": "bca4411a-d6d5-42ca-82a7-f6cfba19a875"
      },
      "source": [
        "key.has_private()"
      ],
      "execution_count": null,
      "outputs": [
        {
          "output_type": "execute_result",
          "data": {
            "text/plain": [
              "True"
            ]
          },
          "metadata": {
            "tags": []
          },
          "execution_count": 48
        }
      ]
    },
    {
      "cell_type": "markdown",
      "metadata": {
        "id": "HS1s_jY6ss9D",
        "colab_type": "text"
      },
      "source": [
        "*ENCRYPTION*"
      ]
    },
    {
      "cell_type": "code",
      "metadata": {
        "id": "qTP3IxNljnj9",
        "colab_type": "code",
        "colab": {}
      },
      "source": [
        "public_key = key.publickey()"
      ],
      "execution_count": null,
      "outputs": []
    },
    {
      "cell_type": "code",
      "metadata": {
        "id": "hJcsUg_ek7-V",
        "colab_type": "code",
        "colab": {
          "base_uri": "https://localhost:8080/",
          "height": 54
        },
        "outputId": "ad4fbfaf-6f89-4a5e-f34d-d73a55c204fe"
      },
      "source": [
        "\n",
        "public_key = key.publickey()\n",
        "data='iAMalien'\n",
        "enc_data = public_key.encrypt(data.encode('utf-8'), 32)\n",
        "enc_data"
      ],
      "execution_count": null,
      "outputs": [
        {
          "output_type": "execute_result",
          "data": {
            "text/plain": [
              "(b'+\\xb5K\\xab\\x05\\xbc\\x8f0\\xea\\n\\x19^\\xf6\\x1a\\xba\\x02\\x8a\\xc9PTU\\xa9\\x0f\\xd8\\xdbp\\x00\\xbc-3\\x81\\xcd\\x1a\\xb7^\\xc2\\xf7@\\x8d,\\xa0\\xee\\x9c\\xfa\\xe9\\x9e/\\x8c\\xaf\\x86I\\xae\\xe4\\xa0+\\xc1?n.\\x1a\\xa6\\x94E\\xc0\\xf3\\xc0$B\\xca\\xbd\\xd49\\xeb\\xea\\xe6\\xe2\\x16\\xb1L\\xdc^\\x89\\x89oW\\xf6\\x17\\xa3\\xa1\\xa2h=\\x1f\\xd5\\xd0x\\xacU\\xe0&\\x7f\\x1b?\\xf4\\x02\\x96a\\xe3\\xd21\\xa2I\\xb0\\xd9\\xcb\\xed\\xd7\\xfd\\xc0\\xf2\\x9fp\\xeaK\\xaf\\n*\\xab',)"
            ]
          },
          "metadata": {
            "tags": []
          },
          "execution_count": 56
        }
      ]
    },
    {
      "cell_type": "markdown",
      "metadata": {
        "id": "j7yj-UppsyGd",
        "colab_type": "text"
      },
      "source": [
        "*DECRYPTION*"
      ]
    },
    {
      "cell_type": "code",
      "metadata": {
        "id": "jmIvfytgpEBR",
        "colab_type": "code",
        "colab": {
          "base_uri": "https://localhost:8080/",
          "height": 34
        },
        "outputId": "80ef7d62-b16b-4c2b-a40f-a60a98493a7a"
      },
      "source": [
        "key.decrypt(enc_data)"
      ],
      "execution_count": null,
      "outputs": [
        {
          "output_type": "execute_result",
          "data": {
            "text/plain": [
              "b'iAMalien'"
            ]
          },
          "metadata": {
            "tags": []
          },
          "execution_count": 59
        }
      ]
    },
    {
      "cell_type": "markdown",
      "metadata": {
        "id": "CVS-M8-7uQSZ",
        "colab_type": "text"
      },
      "source": [
        "*SIGN*"
      ]
    },
    {
      "cell_type": "code",
      "metadata": {
        "id": "r3sZhtsGvncm",
        "colab_type": "code",
        "colab": {
          "base_uri": "https://localhost:8080/",
          "height": 34
        },
        "outputId": "e8b7f0ee-9cdd-4963-8ba2-cbb0679e7a6f"
      },
      "source": [
        "from Crypto.Hash import SHA256\n",
        "from Crypto.PublicKey import RSA\n",
        "from Crypto import Random\n",
        "key = RSA.generate(1024, random_generator)\n",
        "data = 'iamAlien' \n",
        "hash = SHA256.new(data.encode('utf-8')).digest()\n",
        "hash"
      ],
      "execution_count": null,
      "outputs": [
        {
          "output_type": "execute_result",
          "data": {
            "text/plain": [
              "b'\\x81x1Xm\\x9f\\xdd\\xda\\xbe\\xb3\\x84N`\\xcfK\\xdb\\xbd\\xfe\\x0c\\xc2\\xfeYino!\\xbe\\x1b\\xf7\\\\C\\xe2'"
            ]
          },
          "metadata": {
            "tags": []
          },
          "execution_count": 70
        }
      ]
    },
    {
      "cell_type": "code",
      "metadata": {
        "id": "cVsN5BJPtKfg",
        "colab_type": "code",
        "colab": {
          "base_uri": "https://localhost:8080/",
          "height": 54
        },
        "outputId": "441a93e3-4de3-4afb-afeb-4153677afc85"
      },
      "source": [
        "signature = key.sign(hash, '')\n",
        "signature"
      ],
      "execution_count": null,
      "outputs": [
        {
          "output_type": "execute_result",
          "data": {
            "text/plain": [
              "(159755470352998075038484862961625598231351227467095525030034331850629578784111459481007654922542033778534331480466576537532699118798043847435141919091597925034589313592519825885967499822020280653855790758249644698731703962470474397952294052494004451419782240343846342360052381473774043905345633552241716207,)"
            ]
          },
          "metadata": {
            "tags": []
          },
          "execution_count": 72
        }
      ]
    },
    {
      "cell_type": "markdown",
      "metadata": {
        "id": "ZNmXLBj2xQsi",
        "colab_type": "text"
      },
      "source": [
        "*VERIFY*"
      ]
    },
    {
      "cell_type": "code",
      "metadata": {
        "id": "QBNTNqr_umh0",
        "colab_type": "code",
        "colab": {
          "base_uri": "https://localhost:8080/",
          "height": 34
        },
        "outputId": "70ceac3f-6a9f-4ba8-907f-b583e1533795"
      },
      "source": [
        "key.verify(hash, signature)\n"
      ],
      "execution_count": null,
      "outputs": [
        {
          "output_type": "execute_result",
          "data": {
            "text/plain": [
              "True"
            ]
          },
          "metadata": {
            "tags": []
          },
          "execution_count": 74
        }
      ]
    },
    {
      "cell_type": "markdown",
      "metadata": {
        "id": "m9uF0NS-z8Qe",
        "colab_type": "text"
      },
      "source": [
        "# STEP-5 HASH FUNCTIONS"
      ]
    },
    {
      "cell_type": "code",
      "metadata": {
        "id": "djX8S7tKxnEY",
        "colab_type": "code",
        "colab": {}
      },
      "source": [
        "from Crypto.Hash import SHA256\n",
        "data=\"iamALIEN\"\n",
        "hash=SHA256.new(data.encode('utf-8')).hexdigest()"
      ],
      "execution_count": null,
      "outputs": []
    },
    {
      "cell_type": "code",
      "metadata": {
        "id": "jO9xqGWQ0oTw",
        "colab_type": "code",
        "colab": {
          "base_uri": "https://localhost:8080/",
          "height": 34
        },
        "outputId": "9a8230db-5a9b-4d3e-a15e-a9d8e05e747b"
      },
      "source": [
        "hash"
      ],
      "execution_count": null,
      "outputs": [
        {
          "output_type": "execute_result",
          "data": {
            "text/plain": [
              "'33fe33a1769259b0e4fe3c0959027f4dfc33ee5ff84210011f63df8b59d100ce'"
            ]
          },
          "metadata": {
            "tags": []
          },
          "execution_count": 82
        }
      ]
    },
    {
      "cell_type": "markdown",
      "metadata": {
        "id": "WZ0cAB5h1c68",
        "colab_type": "text"
      },
      "source": [
        "## APPLICATIONS OF HASH FUNCTION\n",
        "\n",
        "### 1.   PASSWORD MANAGEMENT AND STORAGE\n",
        "\n",
        "\n"
      ]
    },
    {
      "cell_type": "code",
      "metadata": {
        "id": "vNrGfgfb1Rao",
        "colab_type": "code",
        "colab": {}
      },
      "source": [
        "from Crypto.Hash import SHA256\n",
        "clear_password=\"123ALIEN\"\n",
        "\n",
        "password_hash=SHA256.new(data.encode('utf-8')).hexdigest()\n",
        "\n"
      ],
      "execution_count": null,
      "outputs": []
    },
    {
      "cell_type": "code",
      "metadata": {
        "id": "oyJlPQoe2uq8",
        "colab_type": "code",
        "colab": {}
      },
      "source": [
        "def check_password(clear_password, password_hash):\n",
        "  if SHA256.new(clear_password).hexdigest() == password_hash:\n",
        "     return(1)\n",
        "  else:\n",
        "     return(0) \n"
      ],
      "execution_count": null,
      "outputs": []
    },
    {
      "cell_type": "markdown",
      "metadata": {
        "id": "CfmSDiiSDAhj",
        "colab_type": "text"
      },
      "source": [
        "### 2. FILE INTEGRITY CHECKING"
      ]
    },
    {
      "cell_type": "code",
      "metadata": {
        "id": "bqL9-dP96Sd0",
        "colab_type": "code",
        "colab": {}
      },
      "source": [
        "import os\n",
        "from Crypto.Hash import MD5\n",
        "def get_file_checksum(filename):\n",
        "  h = MD5.new()\n",
        "  chunk_size = 8192\n",
        "  with open('/content/sample.txt', 'rb') as f:\n",
        "    while True: \n",
        "      chunk = f.read(chunk_size)\n",
        "      if len(chunk) == 0:\n",
        "        break\n",
        "\n",
        "  h.update(chunk)\n",
        "  return h.hexdigest()"
      ],
      "execution_count": 103,
      "outputs": []
    },
    {
      "cell_type": "markdown",
      "metadata": {
        "id": "zDtEiRxansu7",
        "colab_type": "text"
      },
      "source": [
        "#**Questions**\n",
        "\n",
        "# > Q.1  What are the properties of Hash Function?\n",
        "##The properties of hash functions are:\n",
        "## 1.One way; can not be reversed\n",
        "## 2. Output does not reveal information on input\n",
        "## 3.Hard to find collisions (different messages with same hash)\n",
        "  "
      ]
    },
    {
      "cell_type": "markdown",
      "metadata": {
        "id": "JYa7m-dqrF6a",
        "colab_type": "text"
      },
      "source": [
        "#>Q.2 List algorithmic modes of ciphers.\n",
        "## The algorithmiic modes are:\n",
        "##1. Electronic Code Book (ECB)\n",
        "##2. Cipher Block Chaining (CBC)\n",
        "##3. Cipher Feedback (CFB)\n",
        "##4. Output Feedback (OFB)"
      ]
    },
    {
      "cell_type": "markdown",
      "metadata": {
        "id": "eR0G52kmxRQW",
        "colab_type": "text"
      },
      "source": [
        "#>Q.3 What is Digital signature?\n",
        "##Digital Signature is a process that guarantees that the contents of a message have not been altered in transit. When you, the server, digitally sign a document, you add a one-way hash (encryption) of the message content using your public and private key pair."
      ]
    },
    {
      "cell_type": "markdown",
      "metadata": {
        "id": "ebi1351nx5C1",
        "colab_type": "text"
      },
      "source": [
        "#>Q.4 What is RSA?\n",
        "##RSA algorithm is asymmetric cryptography algorithm. Asymmetric actually means that it works on two different keys i.e. Public Key and Private Key. \n",
        "##Under RSA encryption, messages are encrypted with a code called a public key, which can be shared openly. Due to some distinct mathematical properties of the RSA algorithm, once a message has been encrypted with the public key, it can only be decrypted by another key, known as the private key.\n"
      ]
    },
    {
      "cell_type": "markdown",
      "metadata": {
        "id": "mryy1Uemy52y",
        "colab_type": "text"
      },
      "source": [
        "#Conclusion:\n",
        "\n",
        "##3Cryptography is a necessary part for providing cybersecurity. We are using symmetric algorithms and algorithms. We could see that by using DES using CFB and ECB mode we only encrypted once using the encrypt function. In ECB we saw that the lenght of the key is only 8 bytes long. But in CFB we can add the blocks and then connect it to the previous block and it runs in a feedback loop before encryption begins. In assymtric methods, we did RSA method in which we used two tyoes of keys. Public and Private key. We could verify, sign using hash function which helps to make the key more protective and strong.\n",
        "\n",
        "##So, after this experiment we can use the hash fucntion for making the passwords stronger and also analyse the integrity of the files. Real life encryption and decryption methods could be studied in the programs written in python."
      ]
    }
  ]
}